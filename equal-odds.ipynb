{
 "cells": [
  {
   "cell_type": "code",
   "execution_count": 457,
   "metadata": {
    "collapsed": true
   },
   "outputs": [],
   "source": [
    "import pandas as pd\n",
    "import matplotlib.pyplot as plt\n",
    "from sklearn.datasets import make_classification\n",
    "from sklearn.metrics import roc_curve\n",
    "from sklearn.model_selection import train_test_split\n",
    "from sklearn.linear_model import LogisticRegression\n",
    "from sklearn.tree import DecisionTreeClassifier\n",
    "\n",
    "import numpy as np"
   ]
  },
  {
   "cell_type": "code",
   "execution_count": 458,
   "outputs": [],
   "source": [
    "seed = 4\n",
    "\n",
    "x_m, y_m = make_classification(n_samples=60000, n_features=2, n_redundant=0, weights=[0.6], random_state=seed)\n",
    "x_f, y_f = make_classification(n_samples=15000, n_features=2, n_redundant=0, weights=[0.4], random_state=seed)\n",
    "m = [[1] for _ in range(60000)]\n",
    "f = [[0] for _ in range(15000)]"
   ],
   "metadata": {
    "collapsed": false,
    "pycharm": {
     "name": "#%%\n"
    }
   }
  },
  {
   "cell_type": "code",
   "execution_count": 459,
   "outputs": [],
   "source": [
    "m_join = np.append(x_m, m, axis=1)\n",
    "m_join = np.append(m_join, np.expand_dims(y_m, axis=1), axis=1)\n",
    "\n",
    "f_join = np.append(x_f, f, axis=1)\n",
    "f_join = np.append(f_join, np.expand_dims(y_f, axis=1), axis=1)\n",
    "\n",
    "join = np.append(m_join, f_join, axis=0)\n",
    "np.random.seed = seed\n",
    "np.random.shuffle(join)\n",
    "\n",
    "np.savetxt(\"data.csv\", join, delimiter=',', header='\"x1\",\"x2\",\"a\",\"y\"', comments='')\n",
    "# print(np.unique(y_m, return_counts= True))"
   ],
   "metadata": {
    "collapsed": false,
    "pycharm": {
     "name": "#%%\n"
    }
   }
  },
  {
   "cell_type": "code",
   "execution_count": 460,
   "outputs": [],
   "source": [
    "df = pd.read_csv(\"data.csv\")"
   ],
   "metadata": {
    "collapsed": false,
    "pycharm": {
     "name": "#%%\n"
    }
   }
  },
  {
   "cell_type": "code",
   "execution_count": 461,
   "outputs": [
    {
     "data": {
      "text/plain": "         x1        x2    a    y\n0 -1.089577  1.200028  1.0  0.0\n1  1.698208 -0.502264  0.0  0.0\n2  0.159603 -1.510330  1.0  0.0\n3 -2.721188 -1.008214  1.0  0.0\n4  0.827396  0.481633  1.0  1.0",
      "text/html": "<div>\n<style scoped>\n    .dataframe tbody tr th:only-of-type {\n        vertical-align: middle;\n    }\n\n    .dataframe tbody tr th {\n        vertical-align: top;\n    }\n\n    .dataframe thead th {\n        text-align: right;\n    }\n</style>\n<table border=\"1\" class=\"dataframe\">\n  <thead>\n    <tr style=\"text-align: right;\">\n      <th></th>\n      <th>x1</th>\n      <th>x2</th>\n      <th>a</th>\n      <th>y</th>\n    </tr>\n  </thead>\n  <tbody>\n    <tr>\n      <th>0</th>\n      <td>-1.089577</td>\n      <td>1.200028</td>\n      <td>1.0</td>\n      <td>0.0</td>\n    </tr>\n    <tr>\n      <th>1</th>\n      <td>1.698208</td>\n      <td>-0.502264</td>\n      <td>0.0</td>\n      <td>0.0</td>\n    </tr>\n    <tr>\n      <th>2</th>\n      <td>0.159603</td>\n      <td>-1.510330</td>\n      <td>1.0</td>\n      <td>0.0</td>\n    </tr>\n    <tr>\n      <th>3</th>\n      <td>-2.721188</td>\n      <td>-1.008214</td>\n      <td>1.0</td>\n      <td>0.0</td>\n    </tr>\n    <tr>\n      <th>4</th>\n      <td>0.827396</td>\n      <td>0.481633</td>\n      <td>1.0</td>\n      <td>1.0</td>\n    </tr>\n  </tbody>\n</table>\n</div>"
     },
     "execution_count": 461,
     "metadata": {},
     "output_type": "execute_result"
    }
   ],
   "source": [
    "# df.drop([\"ID\"], axis=1, inplace=True)\n",
    "# df.dropna(axis=0, inplace=True)\n",
    "df.head()"
   ],
   "metadata": {
    "collapsed": false,
    "pycharm": {
     "name": "#%%\n"
    }
   }
  },
  {
   "cell_type": "code",
   "execution_count": 462,
   "outputs": [],
   "source": [
    "# df[\"SEX\"].value_counts()\n",
    "#\n",
    "# df['EDUCATION']=np.where(df['EDUCATION'] == 5, 4, df['EDUCATION'])\n",
    "# df['EDUCATION']=np.where(df['EDUCATION'] == 6, 4, df['EDUCATION'])\n",
    "# df['EDUCATION']=np.where(df['EDUCATION'] == 0, 4, df['EDUCATION'])\n",
    "#\n",
    "# df['MARRIAGE']=np.where(df['MARRIAGE'] == 0, 3, df['MARRIAGE'])\n",
    "#\n",
    "# def age(x):\n",
    "#     if x in range(21,41):\n",
    "#         return 1\n",
    "#     elif x in range(41,61):\n",
    "#         return 2\n",
    "#     elif x in range(61,80):\n",
    "#         return 3\n",
    "#\n",
    "# df['AGE']=df['AGE'].apply(age)"
   ],
   "metadata": {
    "collapsed": false,
    "pycharm": {
     "name": "#%%\n"
    }
   }
  },
  {
   "cell_type": "code",
   "execution_count": 463,
   "outputs": [],
   "source": [
    "x = df.iloc[:, :-1]\n",
    "y = df.iloc[:, -1]\n",
    "x_train, x_test, y_train, y_test = train_test_split(x, y)"
   ],
   "metadata": {
    "collapsed": false,
    "pycharm": {
     "name": "#%%\n"
    }
   }
  },
  {
   "cell_type": "code",
   "execution_count": 464,
   "outputs": [],
   "source": [
    "model = LogisticRegression(solver=\"lbfgs\", random_state=seed)\n",
    "# model = DecisionTreeClassifier()\n",
    "model.fit(x_train, y_train)\n",
    "\n",
    "comb = x_test.join(y_test)\n",
    "comb.head()\n",
    "\n",
    "sex_1 = comb.loc[comb['a'] == 0]\n",
    "sex_2 = comb.loc[comb[\"a\"] == 1]\n",
    "#\n",
    "x_1 = sex_1.iloc[:, :-1]\n",
    "y_1 = sex_1.iloc[:, -1]\n",
    "\n",
    "x_2 = sex_2.iloc[:, :-1]\n",
    "y_2 = sex_2.iloc[:, -1]\n",
    "\n",
    "\n",
    "# y_test_m = y_test.loc[y_test[\"SEX\"] == 1]\n",
    "# y_test_f = y_test.loc[y_test[\"SEX\"] == 2]\n",
    "\n",
    "p_1 = model.predict_proba(x_1)[: ,1] # only keep positive results\n",
    "p_2 = model.predict_proba(x_2)[: ,1] # only keep positive results"
   ],
   "metadata": {
    "collapsed": false,
    "pycharm": {
     "name": "#%%\n"
    }
   }
  },
  {
   "cell_type": "code",
   "execution_count": 465,
   "outputs": [],
   "source": [
    "fpr_1, tpr_1, _ = roc_curve(y_1, p_1)\n",
    "fpr_2, tpr_2, _ = roc_curve(y_2, p_2)\n"
   ],
   "metadata": {
    "collapsed": false,
    "pycharm": {
     "name": "#%%\n"
    }
   }
  },
  {
   "cell_type": "code",
   "execution_count": 466,
   "outputs": [
    {
     "data": {
      "text/plain": "<Figure size 432x288 with 1 Axes>",
      "image/png": "[encoded data removed]"
     },
     "metadata": {
      "needs_background": "light"
     },
     "output_type": "display_data"
    }
   ],
   "source": [
    "plt.plot(fpr_1, tpr_1)\n",
    "plt.plot(fpr_2, tpr_2)\n",
    "plt.plot([0,1], [0,1])\n",
    "plt.show()"
   ],
   "metadata": {
    "collapsed": false,
    "pycharm": {
     "name": "#%%\n"
    }
   }
  }
 ],
 "metadata": {
  "kernelspec": {
   "display_name": "Python 3",
   "language": "python",
   "name": "python3"
  },
  "language_info": {
   "codemirror_mode": {
    "name": "ipython",
    "version": 2
   },
   "file_extension": ".py",
   "mimetype": "text/x-python",
   "name": "python",
   "nbconvert_exporter": "python",
   "pygments_lexer": "ipython2",
   "version": "2.7.6"
  }
 },
 "nbformat": 4,
 "nbformat_minor": 0
}