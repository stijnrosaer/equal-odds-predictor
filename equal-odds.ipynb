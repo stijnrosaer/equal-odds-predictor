{
 "cells": [
  {
   "cell_type": "code",
   "execution_count": 1,
   "metadata": {
    "collapsed": true
   },
   "outputs": [],
   "source": [
    "import pandas as pd\n",
    "import matplotlib.pyplot as plt\n",
    "from sklearn.datasets import make_classification\n",
    "from sklearn.metrics import roc_curve, auc, RocCurveDisplay\n",
    "from sklearn.model_selection import train_test_split\n",
    "from sklearn.linear_model import LogisticRegression\n",
    "from sklearn.tree import DecisionTreeClassifier\n",
    "\n",
    "import numpy as np"
   ]
  },
  {
   "cell_type": "code",
   "execution_count": 2,
   "metadata": {
    "pycharm": {
     "name": "#%%\n"
    }
   },
   "outputs": [],
   "source": [
    "seed = 10 # 1 or 10\n",
    "\n",
    "\n",
    "x_m, y_m = make_classification(n_samples=60000, n_features=10, n_redundant=2, weights=[0.6], random_state=seed)\n",
    "x_f, y_f = make_classification(n_samples=15000, n_features=10, n_redundant=2, weights=[0.4], random_state=seed)\n",
    "m = np.array([[0] for _ in range(60000)])\n",
    "f = np.array([[1] for _ in range(15000)])"
   ]
  },
  {
   "cell_type": "code",
   "execution_count": 3,
   "metadata": {
    "pycharm": {
     "name": "#%%\n"
    }
   },
   "outputs": [],
   "source": [
    "m_join = np.append(x_m, m, axis=1)\n",
    "m_join = np.append(m_join, np.expand_dims(y_m, axis=1), axis=1)\n",
    "\n",
    "f_join = np.append(x_f, f, axis=1)\n",
    "f_join = np.append(f_join, np.expand_dims(y_f, axis=1), axis=1)\n",
    "\n",
    "join = np.append(m_join, f_join, axis=0)\n",
    "np.random.seed = seed\n",
    "np.random.shuffle(join)\n",
    "\n",
    "headers = ''\n",
    "for i in range(1, 11):\n",
    "    headers += '\"x' + str(i) + '\",'\n",
    "headers += '\"a\",\"y\"'\n",
    "np.savetxt(\"data.csv\", join, delimiter=',', header=headers, comments='')\n",
    "# print(np.unique(y_m, return_counts= True))"
   ]
  },
  {
   "cell_type": "code",
   "execution_count": 4,
   "metadata": {
    "pycharm": {
     "name": "#%%\n"
    }
   },
   "outputs": [],
   "source": [
    "df = pd.read_csv(\"data.csv\")"
   ]
  },
  {
   "cell_type": "code",
   "execution_count": 5,
   "metadata": {
    "pycharm": {
     "name": "#%%\n"
    }
   },
   "outputs": [
    {
     "data": {
      "text/plain": "         x1        x2        x3        x4        x5        x6        x7  \\\n0 -0.462305 -0.753377 -2.862915  0.072766  0.316647 -0.859147 -0.641625   \n1  0.026206  0.637597 -0.237986 -0.474397  0.385333  1.490973 -0.439806   \n2  1.099890  0.319225 -1.496363  0.714446  0.942867  1.427435  0.321346   \n3  0.374109  0.162152  0.894842  0.116264  2.469131 -1.321530 -0.337657   \n4  0.555262 -0.799676  0.396717 -0.762649 -0.143534  0.159080 -0.286214   \n\n         x8        x9       x10    a    y  \n0 -1.468212 -0.131054 -0.206220  1.0  1.0  \n1 -1.453481 -0.330104  1.685344  1.0  1.0  \n2 -2.269352  0.456099 -0.224891  1.0  0.0  \n3 -0.503173 -0.983592 -0.115079  0.0  0.0  \n4  0.559668 -1.452209  0.703671  0.0  1.0  ",
      "text/html": "<div>\n<style scoped>\n    .dataframe tbody tr th:only-of-type {\n        vertical-align: middle;\n    }\n\n    .dataframe tbody tr th {\n        vertical-align: top;\n    }\n\n    .dataframe thead th {\n        text-align: right;\n    }\n</style>\n<table border=\"1\" class=\"dataframe\">\n  <thead>\n    <tr style=\"text-align: right;\">\n      <th></th>\n      <th>x1</th>\n      <th>x2</th>\n      <th>x3</th>\n      <th>x4</th>\n      <th>x5</th>\n      <th>x6</th>\n      <th>x7</th>\n      <th>x8</th>\n      <th>x9</th>\n      <th>x10</th>\n      <th>a</th>\n      <th>y</th>\n    </tr>\n  </thead>\n  <tbody>\n    <tr>\n      <th>0</th>\n      <td>-0.462305</td>\n      <td>-0.753377</td>\n      <td>-2.862915</td>\n      <td>0.072766</td>\n      <td>0.316647</td>\n      <td>-0.859147</td>\n      <td>-0.641625</td>\n      <td>-1.468212</td>\n      <td>-0.131054</td>\n      <td>-0.206220</td>\n      <td>1.0</td>\n      <td>1.0</td>\n    </tr>\n    <tr>\n      <th>1</th>\n      <td>0.026206</td>\n      <td>0.637597</td>\n      <td>-0.237986</td>\n      <td>-0.474397</td>\n      <td>0.385333</td>\n      <td>1.490973</td>\n      <td>-0.439806</td>\n      <td>-1.453481</td>\n      <td>-0.330104</td>\n      <td>1.685344</td>\n      <td>1.0</td>\n      <td>1.0</td>\n    </tr>\n    <tr>\n      <th>2</th>\n      <td>1.099890</td>\n      <td>0.319225</td>\n      <td>-1.496363</td>\n      <td>0.714446</td>\n      <td>0.942867</td>\n      <td>1.427435</td>\n      <td>0.321346</td>\n      <td>-2.269352</td>\n      <td>0.456099</td>\n      <td>-0.224891</td>\n      <td>1.0</td>\n      <td>0.0</td>\n    </tr>\n    <tr>\n      <th>3</th>\n      <td>0.374109</td>\n      <td>0.162152</td>\n      <td>0.894842</td>\n      <td>0.116264</td>\n      <td>2.469131</td>\n      <td>-1.321530</td>\n      <td>-0.337657</td>\n      <td>-0.503173</td>\n      <td>-0.983592</td>\n      <td>-0.115079</td>\n      <td>0.0</td>\n      <td>0.0</td>\n    </tr>\n    <tr>\n      <th>4</th>\n      <td>0.555262</td>\n      <td>-0.799676</td>\n      <td>0.396717</td>\n      <td>-0.762649</td>\n      <td>-0.143534</td>\n      <td>0.159080</td>\n      <td>-0.286214</td>\n      <td>0.559668</td>\n      <td>-1.452209</td>\n      <td>0.703671</td>\n      <td>0.0</td>\n      <td>1.0</td>\n    </tr>\n  </tbody>\n</table>\n</div>"
     },
     "execution_count": 5,
     "metadata": {},
     "output_type": "execute_result"
    }
   ],
   "source": [
    "# df.drop([\"ID\"], axis=1, inplace=True)\n",
    "# df.dropna(axis=0, inplace=True)\n",
    "df.head()"
   ]
  },
  {
   "cell_type": "code",
   "execution_count": 6,
   "metadata": {
    "pycharm": {
     "name": "#%%\n"
    }
   },
   "outputs": [],
   "source": [
    "# df[\"SEX\"].value_counts()\n",
    "#\n",
    "# df['EDUCATION']=np.where(df['EDUCATION'] == 5, 4, df['EDUCATION'])\n",
    "# df['EDUCATION']=np.where(df['EDUCATION'] == 6, 4, df['EDUCATION'])\n",
    "# df['EDUCATION']=np.where(df['EDUCATION'] == 0, 4, df['EDUCATION'])\n",
    "#\n",
    "# df['MARRIAGE']=np.where(df['MARRIAGE'] == 0, 3, df['MARRIAGE'])\n",
    "#\n",
    "# def age(x):\n",
    "#     if x in range(21,41):\n",
    "#         return 1\n",
    "#     elif x in range(41,61):\n",
    "#         return 2\n",
    "#     elif x in range(61,80):\n",
    "#         return 3\n",
    "#\n",
    "# df['AGE']=df['AGE'].apply(age)"
   ]
  },
  {
   "cell_type": "code",
   "execution_count": 7,
   "metadata": {
    "pycharm": {
     "name": "#%%\n"
    }
   },
   "outputs": [],
   "source": [
    "x = df.iloc[:, :-1]\n",
    "y = df.iloc[:, -1]\n",
    "x_train, x_test, y_train, y_test = train_test_split(x, y)"
   ]
  },
  {
   "cell_type": "code",
   "execution_count": 8,
   "metadata": {
    "pycharm": {
     "name": "#%%\n"
    }
   },
   "outputs": [],
   "source": [
    "model = LogisticRegression(solver=\"lbfgs\", random_state=seed)\n",
    "# model = DecisionTreeClassifier()\n",
    "model.fit(x_train, y_train)\n",
    "\n",
    "comb = x_test.join(y_test)\n",
    "comb.head()\n",
    "\n",
    "sex_1 = comb.loc[comb['a'] == 0]\n",
    "sex_2 = comb.loc[comb[\"a\"] == 1]\n",
    "#\n",
    "x_1 = sex_1.iloc[:, :-1]\n",
    "y_1 = sex_1.iloc[:, -1]\n",
    "\n",
    "x_2 = sex_2.iloc[:, :-1]\n",
    "y_2 = sex_2.iloc[:, -1]\n",
    "\n",
    "\n",
    "# y_test_m = y_test.loc[y_test[\"SEX\"] == 1]\n",
    "# y_test_f = y_test.loc[y_test[\"SEX\"] == 2]\n",
    "\n",
    "p_1 = model.predict_proba(x_1)[: ,1] # only keep positive results\n",
    "p_2 = model.predict_proba(x_2)[: ,1] # only keep positive results"
   ]
  },
  {
   "cell_type": "code",
   "execution_count": 9,
   "metadata": {
    "pycharm": {
     "name": "#%%\n"
    }
   },
   "outputs": [],
   "source": [
    "fpr_1, tpr_1, tresholds_1 = roc_curve(y_1, p_1)\n",
    "fpr_2, tpr_2, tresholds_2 = roc_curve(y_2, p_2)\n"
   ]
  },
  {
   "cell_type": "code",
   "execution_count": 10,
   "metadata": {
    "pycharm": {
     "name": "#%%\n"
    }
   },
   "outputs": [
    {
     "data": {
      "text/plain": "<Figure size 432x288 with 1 Axes>",
      "image/png": "[encoded data removed]"
     },
     "metadata": {
      "needs_background": "light"
     },
     "output_type": "display_data"
    }
   ],
   "source": [
    "plt.plot(fpr_1, tpr_1, label=\"male\")\n",
    "plt.plot(fpr_2, tpr_2, label=\"female\")\n",
    "plt.plot([0,1], [0,1])\n",
    "# plt.fill_between(fpr_1.sample(1000), (tpr_1.sample(1000)), fpr_2.sample(1000),tpr_2.sample(1000), alpha=0.3)\n",
    "plt.legend()\n",
    "plt.xlabel(\"False positive rate (FPR)\")\n",
    "plt.ylabel(\"True positive rate (TPR)\")\n",
    "plt.title(\"ROC curve\")\n",
    "plt.show()"
   ]
  }
 ],
 "metadata": {
  "kernelspec": {
   "display_name": "Python 3",
   "language": "python",
   "name": "python3"
  },
  "language_info": {
   "codemirror_mode": {
    "name": "ipython",
    "version": 3
   },
   "file_extension": ".py",
   "mimetype": "text/x-python",
   "name": "python",
   "nbconvert_exporter": "python",
   "pygments_lexer": "ipython3",
   "version": "3.8.5"
  }
 },
 "nbformat": 4,
 "nbformat_minor": 1
}